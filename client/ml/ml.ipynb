{
 "cells": [
  {
   "cell_type": "markdown",
   "metadata": {},
   "source": [
    "# Decision Trees in scikit-learn"
   ]
  },
  {
   "cell_type": "markdown",
   "metadata": {},
   "source": [
    "Here are two programs that demonstrate using [scikit-learn](http://scikit-learn.org/stable/) on the performance data documented over at [Analyzing MSA Performance with ML](http://glennengstrand.info/software/architecture/msa/ml). Be sure to edit the paths for the latency and throughput data before running them.\n",
    "\n",
    "This code generates a PDF of the decision tree for predicting cloud based on throuhgput."
   ]
  },
  {
   "cell_type": "code",
   "execution_count": 1,
   "metadata": {},
   "outputs": [
    {
     "data": {
      "text/plain": [
       "'Source.gv.pdf'"
      ]
     },
     "execution_count": 1,
     "metadata": {},
     "output_type": "execute_result"
    }
   ],
   "source": [
    "import graphviz\n",
    "import pandas\n",
    "from sklearn import tree\n",
    "\n",
    "clf = tree.DecisionTreeClassifier()\n",
    "input = pandas.read_csv(\"/home/glenn/git/clojure-news-feed/client/ml/etl/throughput.csv\")\n",
    "data = input[input.columns[6:9]]\n",
    "target = input['cloud']\n",
    "clf = clf.fit(data, target)\n",
    "dot_data = tree.export_graphviz(clf, out_file=None)\n",
    "graph = graphviz.Source(dot_data) \n",
    "graph.render(view=True)"
   ]
  },
  {
   "cell_type": "markdown",
   "metadata": {},
   "source": [
    "This code generates a PDF of the decision tree for predicting feed implementation based on latency."
   ]
  },
  {
   "cell_type": "code",
   "execution_count": 6,
   "metadata": {},
   "outputs": [
    {
     "name": "stderr",
     "output_type": "stream",
     "text": [
      "/home/glenn/.local/lib/python2.7/site-packages/ipykernel_launcher.py:8: SettingWithCopyWarning: \n",
      "A value is trying to be set on a copy of a slice from a DataFrame.\n",
      "Try using .loc[row_indexer,col_indexer] = value instead\n",
      "\n",
      "See the caveats in the documentation: http://pandas.pydata.org/pandas-docs/stable/indexing.html#indexing-view-versus-copy\n",
      "  \n"
     ]
    },
    {
     "data": {
      "text/plain": [
       "'Source.gv.pdf'"
      ]
     },
     "execution_count": 6,
     "metadata": {},
     "output_type": "execute_result"
    }
   ],
   "source": [
    "import graphviz\n",
    "import pandas\n",
    "from sklearn import tree\n",
    "\n",
    "clf = tree.DecisionTreeClassifier()\n",
    "input = pandas.read_csv(\"/home/glenn/git/clojure-news-feed/client/ml/etl/latency.csv\")\n",
    "data = input[input.columns[7:9]]\n",
    "data['cloud'] = input['cloud'].apply(lambda x: 1.0 if x == 'GKE' else 0.0)\n",
    "target = input['feed']\n",
    "clf = clf.fit(data, target)\n",
    "dot_data = tree.export_graphviz(clf, out_file=None)\n",
    "graph = graphviz.Source(dot_data) \n",
    "graph.render(view=True)"
   ]
  },
  {
   "cell_type": "markdown",
   "metadata": {},
   "source": [
    "### Using Graphical Methods"
   ]
  },
  {
   "cell_type": "markdown",
   "metadata": {},
   "source": [
    "Take a look at the first leaf node on the right hand side of the tree near the root. That indicates that all of the performance data where friends latency is high yet outbound latency is low occurred during the feed 5 (python on flask) run. Can we can confirm this using graphical methods? First, let's take a look at outbound latency by feed."
   ]
  },
  {
   "cell_type": "code",
   "execution_count": 7,
   "metadata": {},
   "outputs": [
    {
     "data": {
      "text/plain": [
       "<matplotlib.axes._subplots.AxesSubplot at 0x7f8adb74e610>"
      ]
     },
     "execution_count": 7,
     "metadata": {},
     "output_type": "execute_result"
    },
    {
     "data": {
      "image/png": "[encoded data removed]",
      "text/plain": [
       "<Figure size 432x288 with 1 Axes>"
      ]
     },
     "metadata": {
      "needs_background": "light"
     },
     "output_type": "display_data"
    }
   ],
   "source": [
    "%matplotlib inline\n",
    "import pandas as pd\n",
    "import numpy as np\n",
    "input = pd.read_csv(\"/home/glenn/git/clojure-news-feed/client/ml/etl/latency.csv\")\n",
    "feed = input.groupby(\"feed\")\n",
    "feed['outbound POST'].agg(np.mean).plot(kind = \"bar\", x = \"feed implementation\", y = \"duration (ms)\", title = \"Outbound Avg Latency by Feed\")"
   ]
  },
  {
   "cell_type": "markdown",
   "metadata": {},
   "source": [
    "Now let's take a look at the friends latency by feed. Notice that the only feed implementation where outbound latency was significantly less than friends latency was feed 5."
   ]
  },
  {
   "cell_type": "code",
   "execution_count": 5,
   "metadata": {},
   "outputs": [
    {
     "data": {
      "text/plain": [
       "<matplotlib.axes._subplots.AxesSubplot at 0x7f8aee203ad0>"
      ]
     },
     "execution_count": 5,
     "metadata": {},
     "output_type": "execute_result"
    },
    {
     "data": {
      "image/png": "[encoded data removed]",
      "text/plain": [
       "<Figure size 432x288 with 1 Axes>"
      ]
     },
     "metadata": {
      "needs_background": "light"
     },
     "output_type": "display_data"
    }
   ],
   "source": [
    "%matplotlib inline\n",
    "import pandas as pd\n",
    "import numpy as np\n",
    "input = pd.read_csv(\"/home/glenn/git/clojure-news-feed/client/ml/etl/latency.csv\")\n",
    "feed = input.groupby(\"feed\")\n",
    "feed['friends POST'].agg(np.mean).plot(kind = \"bar\", x = \"feed implementation\", y = \"duration (ms)\", title = \"Friends Avg Latency by Feed\")\n"
   ]
  }
 ],
 "metadata": {
  "kernelspec": {
   "display_name": "Python 2",
   "language": "python",
   "name": "python2"
  },
  "language_info": {
   "codemirror_mode": {
    "name": "ipython",
    "version": 2
   },
   "file_extension": ".py",
   "mimetype": "text/x-python",
   "name": "python",
   "nbconvert_exporter": "python",
   "pygments_lexer": "ipython2",
   "version": "2.7.15rc1"
  }
 },
 "nbformat": 4,
 "nbformat_minor": 2
}
